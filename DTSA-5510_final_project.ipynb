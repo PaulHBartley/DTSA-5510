{
 "cells": [
  {
   "cell_type": "markdown",
   "id": "01f44bea",
   "metadata": {},
   "source": [
    "# DTSA-5510 Unsupervised Algorithms in Machine Learning - Final Project"
   ]
  },
  {
   "cell_type": "markdown",
   "id": "7ca798d4",
   "metadata": {},
   "source": [
    "In this project, I'm doing an analysis of bird songs based on the [bird song data set](https://www.kaggle.com/datasets/vinayshanbhag/bird-song-data-set) available on Kaggle. This data set consists of 9110 .wav audio files of bird song recordings from 5 different bird species. I will be using spectral audio processing libraries along with dimensionality reduction and clustering algorithms to build an unsupervised model for categorizing the bird songs by species."
   ]
  },
  {
   "cell_type": "code",
   "execution_count": null,
   "id": "f98136c7",
   "metadata": {},
   "outputs": [],
   "source": [
    "import numpy as np\n",
    "import pandas as pd"
   ]
  },
  {
   "cell_type": "markdown",
   "id": "089cb38d",
   "metadata": {},
   "source": [
    "## Exploratory Data Analysis"
   ]
  },
  {
   "cell_type": "markdown",
   "id": "f6049e20",
   "metadata": {},
   "source": [
    "We'll begin by importing the "
   ]
  }
 ],
 "metadata": {
  "kernelspec": {
   "display_name": "py3.12",
   "language": "python",
   "name": "python3"
  },
  "language_info": {
   "name": "python",
   "version": "3.12.9"
  }
 },
 "nbformat": 4,
 "nbformat_minor": 5
}
