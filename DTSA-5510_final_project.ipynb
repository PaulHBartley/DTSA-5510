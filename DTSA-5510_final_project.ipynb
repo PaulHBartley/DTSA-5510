{
 "cells": [
  {
   "cell_type": "markdown",
   "id": "01f44bea",
   "metadata": {},
   "source": [
    "# DTSA-5510 Unsupervised Algorithms in Machine Learning - Final Project"
   ]
  },
  {
   "cell_type": "markdown",
   "id": "7ca798d4",
   "metadata": {},
   "source": [
    "In this project, I'm doing an analysis of bird songs based on the [bird song data set](https://www.kaggle.com/datasets/vinayshanbhag/bird-song-data-set) available on Kaggle. This data set consists of 9110 .wav audio files of bird song recordings from 5 different bird species. I will be using spectral audio processing libraries along with dimensionality reduction and clustering algorithms to build an unsupervised model for categorizing the bird songs by species."
   ]
  },
  {
   "cell_type": "markdown",
   "id": "089cb38d",
   "metadata": {},
   "source": []
  }
 ],
 "metadata": {
  "language_info": {
   "name": "python"
  }
 },
 "nbformat": 4,
 "nbformat_minor": 5
}
